{
 "cells": [
  {
   "cell_type": "code",
   "execution_count": 1,
   "id": "650eb192",
   "metadata": {},
   "outputs": [],
   "source": [
    "import matplotlib.pyplot as plt\n",
    "import numpy as np\n",
    "import pandas as pd\n",
    "import pathlib as pl\n",
    "import copy\n",
    "import sys\n",
    "\n",
    "from matplotlib import patches\n",
    "\n",
    "import larch.io as lio\n",
    "import larch.xafs as lx\n",
    "\n",
    "from larch import Group\n",
    "from larch.fitting import param, guess, param_group\n",
    "\n",
    "from sp8 import *"
   ]
  },
  {
   "cell_type": "code",
   "execution_count": 2,
   "id": "6698731e",
   "metadata": {},
   "outputs": [],
   "source": [
    "sys.setrecursionlimit(10000)"
   ]
  },
  {
   "cell_type": "code",
   "execution_count": 3,
   "id": "1e17e161",
   "metadata": {},
   "outputs": [],
   "source": [
    "group = lio.read_ascii('es/cu.dat', labels='energy mu')"
   ]
  },
  {
   "cell_type": "code",
   "execution_count": 4,
   "id": "a4b446b8",
   "metadata": {},
   "outputs": [
    {
     "data": {
      "text/plain": [
       "8982.40000000019"
      ]
     },
     "execution_count": 4,
     "metadata": {},
     "output_type": "execute_result"
    },
    {
     "name": "stdout",
     "output_type": "stream",
     "text": [
      "-2.1000000001913577\n"
     ]
    }
   ],
   "source": [
    "e0_ref = 8980.3\n",
    "mask = (group.energy > e0_ref - 10) & (group.energy < e0_ref + 10)\n",
    "lx.find_e0(\n",
    "    group.energy[mask],\n",
    "    group.mu[mask],\n",
    "    group=group\n",
    ")\n",
    "e0_shift = e0_ref - group.e0\n",
    "print(e0_shift)"
   ]
  },
  {
   "cell_type": "code",
   "execution_count": 5,
   "id": "d00f86e0",
   "metadata": {},
   "outputs": [
    {
     "data": {
      "text/plain": [
       "[<matplotlib.lines.Line2D at 0x7f4acd28dcd0>]"
      ]
     },
     "execution_count": 5,
     "metadata": {},
     "output_type": "execute_result"
    },
    {
     "data": {
      "text/plain": [
       "<matplotlib.collections.LineCollection at 0x7f4acd28dc70>"
      ]
     },
     "execution_count": 5,
     "metadata": {},
     "output_type": "execute_result"
    },
    {
     "data": {
      "text/plain": [
       "(8930.3, 9080.3)"
      ]
     },
     "execution_count": 5,
     "metadata": {},
     "output_type": "execute_result"
    },
    {
     "data": {
      "text/plain": [
       "(-0.1, 1.1)"
      ]
     },
     "execution_count": 5,
     "metadata": {},
     "output_type": "execute_result"
    },
    {
     "data": {
      "image/png": "[encoded data removed]",
      "text/plain": [
       "<Figure size 300x300 with 1 Axes>"
      ]
     },
     "metadata": {},
     "output_type": "display_data"
    }
   ],
   "source": [
    "lx.pre_edge(\n",
    "    group,\n",
    "    pre1=-200,\n",
    "    pre2=-30,\n",
    "    norm1=150,\n",
    "    nvict=2,\n",
    "    nnorm=3\n",
    ")\n",
    "\n",
    "fig, ax = plt.subplots(layout='constrained')\n",
    "ax.plot(group.energy, group.norm)\n",
    "ax.vlines(group.e0, -999, 999, linestyles='--')\n",
    "ax.set_xlim(e0_ref-50, e0_ref+100)\n",
    "ax.set_ylim(-0.1, 1.1)\n",
    "fig.set_size_inches(3, 3)"
   ]
  },
  {
   "cell_type": "code",
   "execution_count": 6,
   "id": "d5908cd9",
   "metadata": {},
   "outputs": [],
   "source": [
    "group.energy += e0_shift\n",
    "group.e0 += e0_shift"
   ]
  },
  {
   "cell_type": "code",
   "execution_count": 7,
   "id": "9a54b07d",
   "metadata": {},
   "outputs": [],
   "source": [
    "autobk_kwargs = {\n",
    "    'e0': e0_ref,\n",
    "    'kmin': 0,\n",
    "    'kmax': 20,\n",
    "    'rbkg': 1,\n",
    "    'kweight': 2,\n",
    "    'win': 'Hanning',\n",
    "    'dk': 4,\n",
    "    'clamp_lo': 1,\n",
    "    'clamp_hi': 1000\n",
    "}\n",
    "xftf_kwargs = {\n",
    "    'kmin': 2.5,\n",
    "    'kmax': 19.5,\n",
    "    'dk': 4,\n",
    "    'kweight': 3,\n",
    "    'window': 'hanning'\n",
    "}\n",
    "\n",
    "lx.autobk(group.energy, group.norm, group=group, **autobk_kwargs)\n",
    "lx.xftf(group.k, group.chi, group=group, **xftf_kwargs)"
   ]
  },
  {
   "cell_type": "code",
   "execution_count": 8,
   "id": "84303fe0",
   "metadata": {},
   "outputs": [
    {
     "data": {
      "text/plain": [
       "[<matplotlib.lines.Line2D at 0x7f4acd0b97c0>]"
      ]
     },
     "execution_count": 8,
     "metadata": {},
     "output_type": "execute_result"
    },
    {
     "data": {
      "text/plain": [
       "[<matplotlib.lines.Line2D at 0x7f4accd994f0>]"
      ]
     },
     "execution_count": 8,
     "metadata": {},
     "output_type": "execute_result"
    },
    {
     "data": {
      "text/plain": [
       "(8930.3, 9130.3)"
      ]
     },
     "execution_count": 8,
     "metadata": {},
     "output_type": "execute_result"
    },
    {
     "data": {
      "text/plain": [
       "[<matplotlib.lines.Line2D at 0x7f4accd9aae0>]"
      ]
     },
     "execution_count": 8,
     "metadata": {},
     "output_type": "execute_result"
    },
    {
     "data": {
      "text/plain": [
       "[<matplotlib.lines.Line2D at 0x7f4accd9ad20>]"
      ]
     },
     "execution_count": 8,
     "metadata": {},
     "output_type": "execute_result"
    },
    {
     "data": {
      "text/plain": [
       "[<matplotlib.lines.Line2D at 0x7f4accd9b350>]"
      ]
     },
     "execution_count": 8,
     "metadata": {},
     "output_type": "execute_result"
    },
    {
     "data": {
      "text/plain": [
       "[<matplotlib.lines.Line2D at 0x7f4accd9b740>]"
      ]
     },
     "execution_count": 8,
     "metadata": {},
     "output_type": "execute_result"
    },
    {
     "data": {
      "text/plain": [
       "(0.0, 8.0)"
      ]
     },
     "execution_count": 8,
     "metadata": {},
     "output_type": "execute_result"
    },
    {
     "data": {
      "image/png": "[encoded data removed]",
      "text/plain": [
       "<Figure size 900x300 with 3 Axes>"
      ]
     },
     "metadata": {},
     "output_type": "display_data"
    }
   ],
   "source": [
    "fig, axs = plt.subplots(nrows=1, ncols=3, layout='constrained')\n",
    "axs[0].plot(group.energy, group.norm, color='k')\n",
    "axs[0].plot(group.energy, group.bkg, color='gray')\n",
    "axs[0].set_xlim(group.e0-50, group.e0+150)\n",
    "axs[1].plot(group.k, group.k**3*group.chi, color='k')\n",
    "axs[1].plot(group.k, group.kwin*max(group.k**3*group.chi), color='gray')\n",
    "axs[2].plot(group.r, group.chir_re, color='k')\n",
    "axs[2].plot(group.r, group.chir_mag, color='k')\n",
    "axs[2].set_xlim(0, 8)\n",
    "fig.set_size_inches(9, 3)"
   ]
  },
  {
   "cell_type": "code",
   "execution_count": 9,
   "id": "1a154bf3",
   "metadata": {},
   "outputs": [],
   "source": [
    "pars = param_group(\n",
    "    s02     = param(0.8, vary=True, min=0.0, max=1.1),\n",
    "    de0     = param(0.0, vary=True, min=-20.0, max=20.0),\n",
    "    alpha   = param(0, vary=True, min=-2, max=2),\n",
    "    # dr1     = param(0, vary=True, min=-0.5, max=0.5),\n",
    "    sig1    = param(0.005, vary=True, min=0.0001, max=0.05),\n",
    "    n1      = param(1, vary=False),\n",
    "    # dr2     = param(0, vary=True, min=-0.5, max=0.5),\n",
    "    sig2    = param(0.005, vary=True, min=0.0001, max=0.05),\n",
    "    n2      = param(1, vary=False),    \n",
    "    # dr3     = param(0, vary=True, min=-0.5, max=0.5),\n",
    "    sig3    = param(0.005, vary=True, min=0.0001, max=0.05),\n",
    "    n3      = param(1, vary=False)\n",
    "    )\n",
    "\n",
    "p1 = lx.feffpath(\n",
    "    'feff-std/Cu_Cu_2.5562.f8',\n",
    "    s02='s02*n1',\n",
    "    e0='de0',\n",
    "    deltar='alpha*reff',\n",
    "    # deltar='dr1',\n",
    "    sigma2='sig1'\n",
    ")\n",
    "p2 = lx.feffpath(\n",
    "    'feff-std/Cu_Cu_3.6150.f8',\n",
    "    s02='s02*n2',\n",
    "    e0='de0',\n",
    "    deltar='alpha*reff',\n",
    "    # deltar='dr2',\n",
    "    sigma2='sig2'\n",
    ")\n",
    "p3 = lx.feffpath(\n",
    "    'feff-std/Cu_Cu_4.4274.f8',\n",
    "    s02='s02*n3',\n",
    "    e0='de0',\n",
    "    deltar='alpha*reff',\n",
    "    # deltar='dr3',\n",
    "    sigma2='sig3'\n",
    ")\n",
    "\n",
    "trans = lx.feffit_transform(rmin=1, rmax=3, **xftf_kwargs)\n",
    "dset = lx.feffit_dataset(data=group, pathlist=[p1, p2, p3], transform=trans)"
   ]
  },
  {
   "cell_type": "code",
   "execution_count": 10,
   "id": "1de9272d",
   "metadata": {},
   "outputs": [
    {
     "name": "stdout",
     "output_type": "stream",
     "text": [
      "=================== FEFFIT RESULTS ====================\n",
      "[[Statistics]]\n",
      "  n_function_calls     = 194\n",
      "  n_variables          = 6\n",
      "  n_data_points        = 130\n",
      "  n_independent        = 22.6450723\n",
      "  chi_square           = 2.71096495\n",
      "  reduced chi_square   = 0.16286892\n",
      "  r-factor             = 0.00202661\n",
      "  Akaike info crit     = -36.0672824\n",
      "  Bayesian info crit   = -29.3476288\n",
      " \n",
      "[[Parameters]]\n",
      "  alpha                = -0.0067142 +/- 6.4391e-4  (init= 0.0000000)\n",
      "  de0                  =  4.7023905 +/- 0.3384222  (init= 0.0000000)\n",
      "  n1                   =  1.0000000 (fixed)\n",
      "  n2                   =  1.0000000 (fixed)\n",
      "  n3                   =  1.0000000 (fixed)\n",
      "  s02                  =  0.9171564 +/- 0.0245655  (init= 0.8000000)\n",
      "  sig1                 =  0.0088873 +/- 1.8102e-4  (init= 0.0050000)\n",
      "  sig2                 =  0.0214252 +/- 0.0095917  (init= 0.0050000)\n",
      "  sig3                 =  0.0500000 +/- 0.0645108  (init= 0.0050000)\n",
      " \n",
      "[[Correlations]] (unreported correlations are <  0.100)\n",
      "  s02, sig1            =  0.910\n",
      "  alpha, de0           =  0.906\n",
      "  sig2, sig3           = -0.372\n",
      "  de0, sig2            = -0.163\n",
      "  alpha, sig1          =  0.140\n",
      "  alpha, sig2          = -0.121\n",
      "  alpha, s02           =  0.116\n",
      "  de0, sig3            =  0.102\n",
      " \n",
      "[[Dataset]]\n",
      "  unique_id            = 'dnrpy2kq'\n",
      "  fit space            = 'r'\n",
      "  r-range              = 1.000, 3.000\n",
      "  k-range              = 2.500, 19.500\n",
      "  k window, dk         = 'hanning', 4.000\n",
      "  paths used in fit    = ['feff-std/Cu_Cu_2.5562.f8', 'feff-std/Cu_Cu_3.6150.f8', 'feff-std/Cu_Cu_4.4274.f8']\n",
      "  k-weight             = 3\n",
      "  epsilon_k            = Array(mean=0.0014770, std=0.0052622)\n",
      "  epsilon_r            = 1.1530012\n",
      "  n_independent        = 22.645\n",
      " \n",
      "[[Paths]]\n",
      " = Path 'py3eziyea' Cu K Edge\n",
      "    feffdat file = feff-std/Cu_Cu_2.5562.f8, from feff run 'feff-std'\n",
      "    geometry  atom      x        y        z      ipot\n",
      "              Cu       0.0000,  0.0000,  0.0000  0 (absorber)\n",
      "              Cu       0.0000,  1.8075, -1.8075  1\n",
      "     reff   =  2.5562000\n",
      "     degen  =  12.000000\n",
      "     n*s02  =  0.9171564 +/- 0.0245655  := 's02*n1'\n",
      "     e0     =  4.7023905 +/- 0.3384222  := 'de0'\n",
      "     r      =  2.5390371 +/- 0.0016460  := 'reff + alpha*reff'\n",
      "     deltar = -0.0171629 +/- 0.0016460  := 'alpha*reff'\n",
      "     sigma2 =  0.0088873 +/- 1.8102e-4  := 'sig1'\n",
      "\n",
      " = Path 'ppbyut4rr' Cu K Edge\n",
      "    feffdat file = feff-std/Cu_Cu_3.6150.f8, from feff run 'feff-std'\n",
      "    geometry  atom      x        y        z      ipot\n",
      "              Cu       0.0000,  0.0000,  0.0000  0 (absorber)\n",
      "              Cu      -3.6150,  0.0000,  0.0000  1\n",
      "     reff   =  3.6150000\n",
      "     degen  =  6.0000000\n",
      "     n*s02  =  0.9171564 +/- 0.0245655  := 's02*n2'\n",
      "     e0     =  4.7023905 +/- 0.3384222  := 'de0'\n",
      "     r      =  3.5907281 +/- 0.0023277  := 'reff + alpha*reff'\n",
      "     deltar = -0.0242719 +/- 0.0023277  := 'alpha*reff'\n",
      "     sigma2 =  0.0214252 +/- 0.0095917  := 'sig2'\n",
      "\n",
      " = Path 'pnshwh4qh' Cu K Edge\n",
      "    feffdat file = feff-std/Cu_Cu_4.4274.f8, from feff run 'feff-std'\n",
      "    geometry  atom      x        y        z      ipot\n",
      "              Cu       0.0000,  0.0000,  0.0000  0 (absorber)\n",
      "              Cu      -1.8075,  3.6150, -1.8075  1\n",
      "     reff   =  4.4274000\n",
      "     degen  =  24.000000\n",
      "     n*s02  =  0.9171564 +/- 0.0245655  := 's02*n3'\n",
      "     e0     =  4.7023905 +/- 0.3384222  := 'de0'\n",
      "     r      =  4.3976735 +/- 0.0028508  := 'reff + alpha*reff'\n",
      "     deltar = -0.0297265 +/- 0.0028508  := 'alpha*reff'\n",
      "     sigma2 =  0.0500000 +/- 0.0645108  := 'sig3'\n",
      "\n",
      "=======================================================\n"
     ]
    }
   ],
   "source": [
    "out = lx.feffit(pars, [dset], max_nfev=3000, method='leastsq')\n",
    "print(lx.feffit_report(out))"
   ]
  },
  {
   "cell_type": "code",
   "execution_count": 11,
   "id": "d76b0c9d",
   "metadata": {},
   "outputs": [
    {
     "name": "stdout",
     "output_type": "stream",
     "text": [
      "=================== FEFFIT RESULTS ====================\n",
      "[[Statistics]]\n",
      "  n_function_calls     = 987\n",
      "  n_variables          = 6\n",
      "  n_data_points        = 130\n",
      "  n_independent        = 22.6450723\n",
      "  chi_square           = 2.71096376\n",
      "  reduced chi_square   = 0.16286885\n",
      "  r-factor             = 0.00202661\n",
      "  Akaike info crit     = -36.0672924\n",
      "  Bayesian info crit   = -29.3476388\n",
      " \n",
      "[[Parameters]]\n",
      "  alpha                = -0.0067134 +/- 6.4318e-4  (init= 0.0000000)\n",
      "  de0                  =  4.7027094 +/- 0.3353985  (init= 0.0000000)\n",
      "  n1                   =  1.0000000 (fixed)\n",
      "  n2                   =  1.0000000 (fixed)\n",
      "  n3                   =  1.0000000 (fixed)\n",
      "  s02                  =  0.9172126 +/- 0.0247020  (init= 0.8000000)\n",
      "  sig1                 =  0.0088877 +/- 1.8247e-4  (init= 0.0050000)\n",
      "  sig2                 =  0.0214311 +/- 0.0055003  (init= 0.0050000)\n",
      "  sig3                 =  0.0500000 +/- 2.7594e-8  (init= 0.0050000)\n",
      " \n",
      "[[Correlations]] (unreported correlations are <  0.100)\n",
      "  s02, sig1            =  0.911\n",
      "  alpha, de0           =  0.905\n",
      "  alpha, sig1          =  0.183\n",
      "  alpha, s02           =  0.156\n",
      " \n",
      "[[Dataset]]\n",
      "  unique_id            = 'dnrpy2kq'\n",
      "  fit space            = 'r'\n",
      "  r-range              = 1.000, 3.000\n",
      "  k-range              = 2.500, 19.500\n",
      "  k window, dk         = 'hanning', 4.000\n",
      "  paths used in fit    = ['feff-std/Cu_Cu_2.5562.f8', 'feff-std/Cu_Cu_3.6150.f8', 'feff-std/Cu_Cu_4.4274.f8']\n",
      "  k-weight             = 3\n",
      "  epsilon_k            = Array(mean=0.0014770, std=0.0052622)\n",
      "  epsilon_r            = 1.1530012\n",
      "  n_independent        = 22.645\n",
      " \n",
      "[[Paths]]\n",
      " = Path 'py3eziyea' Cu K Edge\n",
      "    feffdat file = feff-std/Cu_Cu_2.5562.f8, from feff run 'feff-std'\n",
      "    geometry  atom      x        y        z      ipot\n",
      "              Cu       0.0000,  0.0000,  0.0000  0 (absorber)\n",
      "              Cu       0.0000,  1.8075, -1.8075  1\n",
      "     reff   =  2.5562000\n",
      "     degen  =  12.000000\n",
      "     n*s02  =  0.9172126 +/- 0.0247020  := 's02*n1'\n",
      "     e0     =  4.7027094 +/- 0.3353985  := 'de0'\n",
      "     r      =  2.5390391 +/- 0.0016441  := 'reff + alpha*reff'\n",
      "     deltar = -0.0171609 +/- 0.0016441  := 'alpha*reff'\n",
      "     sigma2 =  0.0088877 +/- 1.8247e-4  := 'sig1'\n",
      "\n",
      " = Path 'ppbyut4rr' Cu K Edge\n",
      "    feffdat file = feff-std/Cu_Cu_3.6150.f8, from feff run 'feff-std'\n",
      "    geometry  atom      x        y        z      ipot\n",
      "              Cu       0.0000,  0.0000,  0.0000  0 (absorber)\n",
      "              Cu      -3.6150,  0.0000,  0.0000  1\n",
      "     reff   =  3.6150000\n",
      "     degen  =  6.0000000\n",
      "     n*s02  =  0.9172126 +/- 0.0247020  := 's02*n2'\n",
      "     e0     =  4.7027094 +/- 0.3353985  := 'de0'\n",
      "     r      =  3.5907309 +/- 0.0023251  := 'reff + alpha*reff'\n",
      "     deltar = -0.0242691 +/- 0.0023251  := 'alpha*reff'\n",
      "     sigma2 =  0.0214311 +/- 0.0055003  := 'sig2'\n",
      "\n",
      " = Path 'pnshwh4qh' Cu K Edge\n",
      "    feffdat file = feff-std/Cu_Cu_4.4274.f8, from feff run 'feff-std'\n",
      "    geometry  atom      x        y        z      ipot\n",
      "              Cu       0.0000,  0.0000,  0.0000  0 (absorber)\n",
      "              Cu      -1.8075,  3.6150, -1.8075  1\n",
      "     reff   =  4.4274000\n",
      "     degen  =  24.000000\n",
      "     n*s02  =  0.9172126 +/- 0.0247020  := 's02*n3'\n",
      "     e0     =  4.7027094 +/- 0.3353985  := 'de0'\n",
      "     r      =  4.3976769 +/- 0.0028476  := 'reff + alpha*reff'\n",
      "     deltar = -0.0297231 +/- 0.0028476  := 'alpha*reff'\n",
      "     sigma2 =  0.0500000 +/- 2.7594e-8  := 'sig3'\n",
      "\n",
      "=======================================================\n"
     ]
    }
   ],
   "source": [
    "out = lx.feffit(pars, [dset], max_nfev=3000, method='lbfgsb')\n",
    "print(lx.feffit_report(out))"
   ]
  },
  {
   "cell_type": "code",
   "execution_count": 13,
   "id": "6758cbd4",
   "metadata": {},
   "outputs": [
    {
     "name": "stdout",
     "output_type": "stream",
     "text": [
      "=================== FEFFIT RESULTS ====================\n",
      "[[Statistics]]\n",
      "  n_function_calls     = 3001\n",
      "  n_variables          = 6\n",
      "  n_data_points        = 130\n",
      "  n_independent        = 22.6450723\n",
      "  chi_square           = 414.827121\n",
      "  reduced chi_square   = 24.9219177\n",
      "  r-factor             = 0.31010796\n",
      "  Akaike info crit     = 77.8500492\n",
      "  Bayesian info crit   = 84.5697028\n",
      " \n",
      "[[Parameters]]\n",
      "  alpha                =  0.0016183 +/-unknown  (init= 0.0000000)\n",
      "  de0                  =  10.128893 +/-unknown  (init= 0.0000000)\n",
      "  n1                   =  1.0000000 (fixed)\n",
      "  n2                   =  1.0000000 (fixed)\n",
      "  n3                   =  1.0000000 (fixed)\n",
      "  s02                  =  0.4440564 +/-unknown  (init= 0.8000000)\n",
      "  sig1                 =  0.0093486 +/-unknown  (init= 0.0050000)\n",
      "  sig2                 =  1.0478e-4 +/-unknown  (init= 0.0050000)\n",
      "  sig3                 =  0.0345183 +/-unknown  (init= 0.0050000)\n",
      " \n",
      "[[Correlations]] (unreported correlations are <  0.100)\n",
      " \n",
      "[[Dataset]]\n",
      "  unique_id            = 'dnrpy2kq'\n",
      "  fit space            = 'r'\n",
      "  r-range              = 1.000, 3.000\n",
      "  k-range              = 2.500, 19.500\n",
      "  k window, dk         = 'hanning', 4.000\n",
      "  paths used in fit    = ['feff-std/Cu_Cu_2.5562.f8', 'feff-std/Cu_Cu_3.6150.f8', 'feff-std/Cu_Cu_4.4274.f8']\n",
      "  k-weight             = 3\n",
      "  epsilon_k            = Array(mean=0.0014770, std=0.0052622)\n",
      "  epsilon_r            = 1.1530012\n",
      "  n_independent        = 22.645\n",
      " \n",
      "[[Paths]]\n",
      " = Path 'py3eziyea' Cu K Edge\n",
      "    feffdat file = feff-std/Cu_Cu_2.5562.f8, from feff run 'feff-std'\n",
      "    geometry  atom      x        y        z      ipot\n",
      "              Cu       0.0000,  0.0000,  0.0000  0 (absorber)\n",
      "              Cu       0.0000,  1.8075, -1.8075  1\n",
      "     reff   =  2.5562000\n",
      "     degen  =  12.000000\n",
      "     n*s02  =  0.4440564  := 's02*n1'\n",
      "     e0     =  10.128893  := 'de0'\n",
      "     r      =  2.5603368  := 'reff + alpha*reff'\n",
      "     deltar =  0.0041368  := 'alpha*reff'\n",
      "     sigma2 =  0.0093486  := 'sig1'\n",
      "\n",
      " = Path 'ppbyut4rr' Cu K Edge\n",
      "    feffdat file = feff-std/Cu_Cu_3.6150.f8, from feff run 'feff-std'\n",
      "    geometry  atom      x        y        z      ipot\n",
      "              Cu       0.0000,  0.0000,  0.0000  0 (absorber)\n",
      "              Cu      -3.6150,  0.0000,  0.0000  1\n",
      "     reff   =  3.6150000\n",
      "     degen  =  6.0000000\n",
      "     n*s02  =  0.4440564  := 's02*n2'\n",
      "     e0     =  10.128893  := 'de0'\n",
      "     r      =  3.6208503  := 'reff + alpha*reff'\n",
      "     deltar =  0.0058503  := 'alpha*reff'\n",
      "     sigma2 =  1.0478e-4  := 'sig2'\n",
      "\n",
      " = Path 'pnshwh4qh' Cu K Edge\n",
      "    feffdat file = feff-std/Cu_Cu_4.4274.f8, from feff run 'feff-std'\n",
      "    geometry  atom      x        y        z      ipot\n",
      "              Cu       0.0000,  0.0000,  0.0000  0 (absorber)\n",
      "              Cu      -1.8075,  3.6150, -1.8075  1\n",
      "     reff   =  4.4274000\n",
      "     degen  =  24.000000\n",
      "     n*s02  =  0.4440564  := 's02*n3'\n",
      "     e0     =  10.128893  := 'de0'\n",
      "     r      =  4.4345650  := 'reff + alpha*reff'\n",
      "     deltar =  0.0071650  := 'alpha*reff'\n",
      "     sigma2 =  0.0345183  := 'sig3'\n",
      "\n",
      "=======================================================\n"
     ]
    }
   ],
   "source": [
    "out = lx.feffit(pars, [dset], max_nfev=3000, method='differential_evolution', workers=1)\n",
    "print(lx.feffit_report(out))"
   ]
  }
 ],
 "metadata": {
  "kernelspec": {
   "display_name": "xraylarch-git",
   "language": "python",
   "name": "python3"
  },
  "language_info": {
   "codemirror_mode": {
    "name": "ipython",
    "version": 3
   },
   "file_extension": ".py",
   "mimetype": "text/x-python",
   "name": "python",
   "nbconvert_exporter": "python",
   "pygments_lexer": "ipython3",
   "version": "3.12.11"
  }
 },
 "nbformat": 4,
 "nbformat_minor": 5
}
